{
 "cells": [
  {
   "cell_type": "code",
   "execution_count": 14,
   "metadata": {},
   "outputs": [],
   "source": [
    "class Student(object):\n",
    "    def __init__(self,first_name,last_name,undergraduate_programme):\n",
    "        self.first_name=first_name\n",
    "        self.last_name=last_name\n",
    "        self.undergraduate_programme=undergraduate_programme\n",
    "\n",
    "    def info(self):\n",
    "        print(\"The student's name:\\t\"+self.first_name.title()+' '\n",
    "              +self.last_name.title()+'\\n'+'undergraduate programme:\\t'\n",
    "              +self.undergraduate_programme+'\\n')"
   ]
  },
  {
   "cell_type": "code",
   "execution_count": 4,
   "metadata": {},
   "outputs": [
    {
     "name": "stdout",
     "output_type": "stream",
     "text": [
      "The student's name:\tXin He\n",
      "undergraduate programme:\tBMI\n",
      "\n"
     ]
    }
   ],
   "source": [
    "#An example to examine\n",
    "class Student(object):\n",
    "    def __init__(self,first_name,last_name,undergraduate_programme):\n",
    "        self.first_name=first_name\n",
    "        self.last_name=last_name\n",
    "        self.undergraduate_programme=undergraduate_programme\n",
    "\n",
    "    def info(self):\n",
    "        print(\"The student's name:\\t\"+self.first_name.title()+' '\n",
    "              +self.last_name.title()+'\\n'+'undergraduate programme:\\t'\n",
    "              +self.undergraduate_programme+'\\n')\n",
    "    \n",
    "example=Student('Xin','He','BMI')\n",
    "example.info()"
   ]
  },
  {
   "cell_type": "code",
   "execution_count": 3,
   "metadata": {},
   "outputs": [
    {
     "name": "stdout",
     "output_type": "stream",
     "text": [
      "The student's name:\tXin He\n",
      "Undergraduate progrmme:\tBMI\n",
      "\n"
     ]
    }
   ],
   "source": [
    "class Student():\n",
    "    def __init__(self, first_name, last_name,undergraduate_programme):\n",
    "        self.first_name = first_name\n",
    "        self.last_name = last_name\n",
    "        self.undergraduate_programme = undergraduate_programme\n",
    "\n",
    "    def info(self):\n",
    "        print(\"The student's name:\\t\"+self.first_name.title()+' '\n",
    "              +self.last_name.title()+'\\n'+'Undergraduate progrmme:\\t'\n",
    "              +self.undergraduate_programme+'\\n')\n",
    "\n",
    "#An example to examine\n",
    "eg = Student('Xin','He','BMI')\n",
    "eg.info()"
   ]
  }
 ],
 "metadata": {
  "kernelspec": {
   "display_name": "Python 3",
   "language": "python",
   "name": "python3"
  },
  "language_info": {
   "codemirror_mode": {
    "name": "ipython",
    "version": 3
   },
   "file_extension": ".py",
   "mimetype": "text/x-python",
   "name": "python",
   "nbconvert_exporter": "python",
   "pygments_lexer": "ipython3",
   "version": "3.8.5"
  }
 },
 "nbformat": 4,
 "nbformat_minor": 4
}
