{
 "cells": [
  {
   "cell_type": "code",
   "execution_count": 3,
   "metadata": {},
   "outputs": [
    {
     "name": "stdout",
     "output_type": "stream",
     "text": [
      "请输入学生的姓名：cytheria\n",
      "请输入学生的代码成绩：90\n",
      "请输入学生的海报展示成绩：80\n",
      "请输入学生的期末成绩：90\n",
      "cytheria 87.0\n"
     ]
    }
   ],
   "source": [
    "#function\n",
    "#总成绩计算\n",
    "def all_score():\n",
    "    all_score=float(student_grade_for_the_code_portfolio)*0.4+float(student_grade_for_the_poster_presentation)*0.3+float(student_grade_in_the_final_exam)*0.3\n",
    "    return all_score\n",
    "\n",
    "#input Student name\n",
    "student_name=input('请输入学生的姓名：')\n",
    "#input Student grade for the code portfolio\n",
    "student_grade_for_the_code_portfolio=input('请输入学生的代码成绩：')\n",
    "#input Student grade for the poster presentation\n",
    "student_grade_for_the_poster_presentation=input('请输入学生的海报展示成绩：')\n",
    "#input Student grade in the final exam\n",
    "student_grade_in_the_final_exam=input('请输入学生的期末成绩：')\n",
    "\n",
    "print(student_name,all_score())"
   ]
  },
  {
   "cell_type": "code",
   "execution_count": 2,
   "metadata": {},
   "outputs": [
    {
     "name": "stdout",
     "output_type": "stream",
     "text": [
      "Cytheria 87.0\n"
     ]
    }
   ],
   "source": [
    "#example\n",
    "#总成绩计算\n",
    "def all_score():\n",
    "    all_score=float(student_grade_for_the_code_portfolio)*0.4+float(student_grade_for_the_poster_presentation)*0.3+float(student_grade_in_the_final_exam)*0.3\n",
    "    return all_score\n",
    "\n",
    "#input Student name\n",
    "student_name=('Cytheria')\n",
    "#input Student grade for the code portfolio\n",
    "student_grade_for_the_code_portfolio=('90')\n",
    "#input Student grade for the poster presentation\n",
    "student_grade_for_the_poster_presentation=('80')\n",
    "#input Student grade in the final exam\n",
    "student_grade_in_the_final_exam=('90')\n",
    "\n",
    "print(student_name,all_score())"
   ]
  }
 ],
 "metadata": {
  "kernelspec": {
   "display_name": "Python 3",
   "language": "python",
   "name": "python3"
  },
  "language_info": {
   "codemirror_mode": {
    "name": "ipython",
    "version": 3
   },
   "file_extension": ".py",
   "mimetype": "text/x-python",
   "name": "python",
   "nbconvert_exporter": "python",
   "pygments_lexer": "ipython3",
   "version": "3.8.5"
  }
 },
 "nbformat": 4,
 "nbformat_minor": 4
}
