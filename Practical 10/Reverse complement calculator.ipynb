{
 "cells": [
  {
   "cell_type": "code",
   "execution_count": 26,
   "metadata": {},
   "outputs": [],
   "source": [
    "def DNA_complement(sequence):\n",
    "    comp_dict={ \"a\":\"t\",\"t\":\"a\",\"g\":\"c\",\"c\":\"g\",\n",
    "                \"A\":\"T\",\"T\":\"A\",\"G\":\"C\",\"C\":\"G\" }\n",
    "    sequence_list=list(sequence)\n",
    "    sequence_list=[comp_dict[base]for base in sequence_list]\n",
    "    string=''.join(sequence_list)\n",
    "    return string\n",
    "\n",
    "def DNA_reverse(sequence):\n",
    "    return sequence[::-1]"
   ]
  },
  {
   "cell_type": "code",
   "execution_count": 2,
   "metadata": {
    "pycharm": {
     "name": "#%%\n"
    }
   },
   "outputs": [
    {
     "name": "stdout",
     "output_type": "stream",
     "text": [
      "atcg\n",
      "cgat\n"
     ]
    }
   ],
   "source": [
    "#example:seq=atcg\n",
    "def DNA_complement(sequence):\n",
    "    comp_dict={ \"a\":\"t\",\"t\":\"a\",\"g\":\"c\",\"c\":\"g\",\n",
    "                \"A\":\"T\",\"T\":\"A\",\"G\":\"C\",\"C\":\"G\" }\n",
    "    sequence_list=list(sequence)\n",
    "    sequence_list=[comp_dict[base]for base in sequence_list]\n",
    "    string=''.join(sequence_list)\n",
    "    return string\n",
    "\n",
    "def DNA_reverse(sequence):\n",
    "    return sequence[::-1]\n",
    "\n",
    "seq=input('')\n",
    "seq=DNA_complement(seq)\n",
    "print(DNA_reverse(seq))"
   ]
  }
 ],
 "metadata": {
  "kernelspec": {
   "display_name": "Python 3",
   "language": "python",
   "name": "python3"
  },
  "language_info": {
   "codemirror_mode": {
    "name": "ipython",
    "version": 3
   },
   "file_extension": ".py",
   "mimetype": "text/x-python",
   "name": "python",
   "nbconvert_exporter": "python",
   "pygments_lexer": "ipython3",
   "version": "3.8.5"
  }
 },
 "nbformat": 4,
 "nbformat_minor": 4
}