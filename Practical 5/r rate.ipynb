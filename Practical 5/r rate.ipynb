{
 "cells": [
  {
   "cell_type": "code",
   "execution_count": 28,
   "metadata": {},
   "outputs": [
    {
     "name": "stdout",
     "output_type": "stream",
     "text": [
      "834.1132799999999\n"
     ]
    }
   ],
   "source": [
    "#Round 1:84*1.2=100.8\n",
    "#Round 2:100.8*1.2=120.96\n",
    "#Round 3:120.96*1.2=145.152\n",
    "#Round 4:145.152*1.2=174.1824\n",
    "#Round 5:174.1824*1.2=209.01888\n",
    "#People being infected after 5 rounds=84+100.8+120.96+145.152+174.1824+209.01888=834.11328≈834\n",
    "\n",
    "n=84\n",
    "r=1.2\n",
    "i=0\n",
    "#i is the round number\n",
    "#m is the number of newly infected people\n",
    "#t is the total number of people being infected\n",
    "#l is ...last round\n",
    "l=n\n",
    "t=n\n",
    "while i<5:\n",
    "    m=r*l\n",
    "    t=m+t\n",
    "    l=m\n",
    "    i=i+1\n",
    "print (t)"
   ]
  },
  {
   "cell_type": "code",
   "execution_count": null,
   "metadata": {},
   "outputs": [],
   "source": []
  }
 ],
 "metadata": {
  "kernelspec": {
   "display_name": "Python 3",
   "language": "python",
   "name": "python3"
  },
  "language_info": {
   "codemirror_mode": {
    "name": "ipython",
    "version": 3
   },
   "file_extension": ".py",
   "mimetype": "text/x-python",
   "name": "python",
   "nbconvert_exporter": "python",
   "pygments_lexer": "ipython3",
   "version": "3.8.5"
  }
 },
 "nbformat": 4,
 "nbformat_minor": 4
}
