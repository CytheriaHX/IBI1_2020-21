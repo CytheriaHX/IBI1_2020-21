{
 "cells": [
  {
   "cell_type": "code",
   "execution_count": 2,
   "metadata": {
    "scrolled": true
   },
   "outputs": [
    {
     "name": "stdout",
     "output_type": "stream",
     "text": [
      "140481\n",
      "50018\n"
     ]
    }
   ],
   "source": [
    "a=240802\n",
    "b=190784\n",
    "c=100321\n",
    "d=a-c\n",
    "e=a-b\n",
    "print (d)\n",
    "print (e)"
   ]
  },
  {
   "cell_type": "code",
   "execution_count": 25,
   "metadata": {},
   "outputs": [
    {
     "name": "stdout",
     "output_type": "stream",
     "text": [
      "True\n"
     ]
    }
   ],
   "source": [
    "X = True\n",
    "Y = False\n",
    "Z=((X==True and Y==False) or (X==False and Y==True))\n",
    "print(bool(Z))\n",
    "\n",
    "    "
   ]
  },
  {
   "cell_type": "code",
   "execution_count": 36,
   "metadata": {},
   "outputs": [
    {
     "name": "stdout",
     "output_type": "stream",
     "text": [
      "True\n"
     ]
    }
   ],
   "source": [
    "X = True\n",
    "Y = False\n",
    "Z=((X==True and Y==False) or (X==False and Y==True))\n",
    "W=(\"X!=Y\")\n",
    "print(bool(W)==bool(Z))"
   ]
  }
 ],
 "metadata": {
  "kernelspec": {
   "display_name": "Python 3",
   "language": "python",
   "name": "python3"
  },
  "language_info": {
   "codemirror_mode": {
    "name": "ipython",
    "version": 3
   },
   "file_extension": ".py",
   "mimetype": "text/x-python",
   "name": "python",
   "nbconvert_exporter": "python",
   "pygments_lexer": "ipython3",
   "version": "3.8.5"
  }
 },
 "nbformat": 4,
 "nbformat_minor": 4
}
