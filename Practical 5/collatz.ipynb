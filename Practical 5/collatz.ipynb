{
 "cells": [
  {
   "cell_type": "code",
   "execution_count": 18,
   "metadata": {},
   "outputs": [
    {
     "name": "stdout",
     "output_type": "stream",
     "text": [
      "1\n",
      "1\n",
      "2\n",
      "3\n",
      "5\n",
      "8\n",
      "13\n",
      "21\n",
      "34\n",
      "55\n",
      "89\n",
      "144\n",
      "233\n"
     ]
    }
   ],
   "source": [
    "#The Fibonacci sequnence should start with 1,1\n",
    "#n=1, return 1\n",
    "#n=2, return fun(1)+fun(0)=1+0=1\n",
    "#n=3, return fun(2)+fun(1)=2\n",
    "\n",
    "def fun(n):\n",
    "    if n<=1:\n",
    "        return n\n",
    "    else:\n",
    "        return fun(n-1)+fun(n-2)\n",
    "for i in range (1, 14):\n",
    "    print(fun(i))"
   ]
  }
 ],
 "metadata": {
  "kernelspec": {
   "display_name": "Python 3",
   "language": "python",
   "name": "python3"
  },
  "language_info": {
   "codemirror_mode": {
    "name": "ipython",
    "version": 3
   },
   "file_extension": ".py",
   "mimetype": "text/x-python",
   "name": "python",
   "nbconvert_exporter": "python",
   "pygments_lexer": "ipython3",
   "version": "3.8.5"
  }
 },
 "nbformat": 4,
 "nbformat_minor": 4
}
