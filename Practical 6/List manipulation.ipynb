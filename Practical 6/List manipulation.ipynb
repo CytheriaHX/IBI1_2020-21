{
 "cells": [
  {
   "cell_type": "code",
   "execution_count": 21,
   "metadata": {},
   "outputs": [
    {
     "name": "stdout",
     "output_type": "stream",
     "text": [
      "[184.50980392156862, 345.1322241681261, 105.76190476190476, 487.6759259259259, 765.96, 118.12153846153846, 3.8898964128730826, 636.7719298245614, 842.0, 30.55640535372849]\n"
     ]
    }
   ],
   "source": [
    "L1=[9410,394141,4442,105338,19149,76779,126550,36296,842,15981]\n",
    "L2=[51,1142,42,216,25,650,32533,57,1,523]\n",
    "L3=[0,0,0,0,0,0,0,0,0,0]\n",
    "for i in range(len(L1)):\n",
    "    L3[i]=L1[i]/L2[i]\n",
    "print(L3)"
   ]
  },
  {
   "cell_type": "code",
   "execution_count": 22,
   "metadata": {},
   "outputs": [
    {
     "name": "stdout",
     "output_type": "stream",
     "text": [
      "[3.8898964128730826, 30.55640535372849, 105.76190476190476, 118.12153846153846, 184.50980392156862, 345.1322241681261, 487.6759259259259, 636.7719298245614, 765.96, 842.0]\n"
     ]
    }
   ],
   "source": [
    "gene_lengths=[9410,394141,4442,105338,19149,76779,126550,36296,842,15981]\n",
    "exon_counts=[51,1142,42,216,25,650,32533,57,1,523]\n",
    "# A list of sorted values for the average exon length across all 10 genes\n",
    "import numpy as np\n",
    "a = np.array(gene_lengths)\n",
    "b = np.array(exon_counts)\n",
    "average_exon_length=(a/b).tolist()\n",
    "average_exon_length.sort()\n",
    "print(average_exon_length)"
   ]
  },
  {
   "cell_type": "code",
   "execution_count": 2,
   "metadata": {},
   "outputs": [
    {
     "data": {
      "image/png": "[encoded data removed]",
      "text/plain": [
       "<Figure size 432x288 with 1 Axes>"
      ]
     },
     "metadata": {
      "needs_background": "light"
     },
     "output_type": "display_data"
    }
   ],
   "source": [
    "gene_lengths=[9410,394141,4442,105338,19149,76779,126550,36296,842,15981]\n",
    "exon_counts=[51,1142,42,216,25,650,32533,57,1,523]\n",
    "import numpy as np\n",
    "a = np.array(gene_lengths)\n",
    "b = np.array(exon_counts)\n",
    "average_exon_length=(a/b).tolist()\n",
    "import matplotlib.pyplot as plt\n",
    "plt.boxplot(average_exon_length)\n",
    "plt.show()"
   ]
  }
 ],
 "metadata": {
  "kernelspec": {
   "display_name": "Python 3",
   "language": "python",
   "name": "python3"
  },
  "language_info": {
   "codemirror_mode": {
    "name": "ipython",
    "version": 3
   },
   "file_extension": ".py",
   "mimetype": "text/x-python",
   "name": "python",
   "nbconvert_exporter": "python",
   "pygments_lexer": "ipython3",
   "version": "3.8.5"
  }
 },
 "nbformat": 4,
 "nbformat_minor": 4
}
